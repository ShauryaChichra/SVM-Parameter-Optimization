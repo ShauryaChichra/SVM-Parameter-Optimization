{
 "cells": [
  {
   "cell_type": "markdown",
   "id": "8a94bc6c",
   "metadata": {
    "papermill": {
     "duration": 0.010552,
     "end_time": "2024-04-20T20:57:16.354447",
     "exception": false,
     "start_time": "2024-04-20T20:57:16.343895",
     "status": "completed"
    },
    "tags": []
   },
   "source": [
    "## SVM- Support Vector Machines\n",
    "### This notebook is used for the parameter optimization when using SVM for predicting categorical data"
   ]
  },
  {
   "cell_type": "code",
   "execution_count": 1,
   "id": "0a736853",
   "metadata": {
    "_cell_guid": "b1076dfc-b9ad-4769-8c92-a6c4dae69d19",
    "_uuid": "8f2839f25d086af736a60e9eeb907d3b93b6e0e5",
    "execution": {
     "iopub.execute_input": "2024-04-20T20:57:16.376884Z",
     "iopub.status.busy": "2024-04-20T20:57:16.376426Z",
     "iopub.status.idle": "2024-04-20T20:57:17.393204Z",
     "shell.execute_reply": "2024-04-20T20:57:17.392254Z"
    },
    "papermill": {
     "duration": 1.031832,
     "end_time": "2024-04-20T20:57:17.396345",
     "exception": false,
     "start_time": "2024-04-20T20:57:16.364513",
     "status": "completed"
    },
    "tags": []
   },
   "outputs": [
    {
     "name": "stdout",
     "output_type": "stream",
     "text": [
      "/kaggle/input/human-activity-recognition-with-smartphones/train.csv\n",
      "/kaggle/input/human-activity-recognition-with-smartphones/test.csv\n"
     ]
    }
   ],
   "source": [
    "# This Python 3 environment comes with many helpful analytics libraries installed\n",
    "# It is defined by the kaggle/python Docker image: https://github.com/kaggle/docker-python\n",
    "# For example, here's several helpful packages to load\n",
    "\n",
    "import numpy as np # linear algebra\n",
    "import pandas as pd # data processing, CSV file I/O (e.g. pd.read_csv)\n",
    "\n",
    "# Input data files are available in the read-only \"../input/\" directory\n",
    "# For example, running this (by clicking run or pressing Shift+Enter) will list all files under the input directory\n",
    "\n",
    "import os\n",
    "for dirname, _, filenames in os.walk('/kaggle/input'):\n",
    "    for filename in filenames:\n",
    "        print(os.path.join(dirname, filename))\n",
    "\n",
    "# You can write up to 20GB to the current directory (/kaggle/working/) that gets preserved as output when you create a version using \"Save & Run All\" \n",
    "# You can also write temporary files to /kaggle/temp/, but they won't be saved outside of the current session"
   ]
  },
  {
   "cell_type": "markdown",
   "id": "339559b9",
   "metadata": {
    "papermill": {
     "duration": 0.01011,
     "end_time": "2024-04-20T20:57:17.417467",
     "exception": false,
     "start_time": "2024-04-20T20:57:17.407357",
     "status": "completed"
    },
    "tags": []
   },
   "source": [
    "### Dataset: Human-activity-recognition-with-smartphone\n",
    "#### Multi-class dataset with 6 labels"
   ]
  },
  {
   "cell_type": "markdown",
   "id": "3ae58442",
   "metadata": {
    "papermill": {
     "duration": 0.010163,
     "end_time": "2024-04-20T20:57:17.437929",
     "exception": false,
     "start_time": "2024-04-20T20:57:17.427766",
     "status": "completed"
    },
    "tags": []
   },
   "source": [
    "#### Training dataset"
   ]
  },
  {
   "cell_type": "code",
   "execution_count": 2,
   "id": "f4b04ecf",
   "metadata": {
    "execution": {
     "iopub.execute_input": "2024-04-20T20:57:17.462463Z",
     "iopub.status.busy": "2024-04-20T20:57:17.460764Z",
     "iopub.status.idle": "2024-04-20T20:57:19.075392Z",
     "shell.execute_reply": "2024-04-20T20:57:19.074095Z"
    },
    "papermill": {
     "duration": 1.630585,
     "end_time": "2024-04-20T20:57:19.079243",
     "exception": false,
     "start_time": "2024-04-20T20:57:17.448658",
     "status": "completed"
    },
    "tags": []
   },
   "outputs": [],
   "source": [
    "train=pd.read_csv('/kaggle/input/human-activity-recognition-with-smartphones/train.csv')"
   ]
  },
  {
   "cell_type": "code",
   "execution_count": 3,
   "id": "2209b297",
   "metadata": {
    "execution": {
     "iopub.execute_input": "2024-04-20T20:57:19.102534Z",
     "iopub.status.busy": "2024-04-20T20:57:19.102088Z",
     "iopub.status.idle": "2024-04-20T20:57:19.149197Z",
     "shell.execute_reply": "2024-04-20T20:57:19.147826Z"
    },
    "papermill": {
     "duration": 0.062641,
     "end_time": "2024-04-20T20:57:19.152464",
     "exception": false,
     "start_time": "2024-04-20T20:57:19.089823",
     "status": "completed"
    },
    "tags": []
   },
   "outputs": [
    {
     "data": {
      "text/html": [
       "<div>\n",
       "<style scoped>\n",
       "    .dataframe tbody tr th:only-of-type {\n",
       "        vertical-align: middle;\n",
       "    }\n",
       "\n",
       "    .dataframe tbody tr th {\n",
       "        vertical-align: top;\n",
       "    }\n",
       "\n",
       "    .dataframe thead th {\n",
       "        text-align: right;\n",
       "    }\n",
       "</style>\n",
       "<table border=\"1\" class=\"dataframe\">\n",
       "  <thead>\n",
       "    <tr style=\"text-align: right;\">\n",
       "      <th></th>\n",
       "      <th>tBodyAcc-mean()-X</th>\n",
       "      <th>tBodyAcc-mean()-Y</th>\n",
       "      <th>tBodyAcc-mean()-Z</th>\n",
       "      <th>tBodyAcc-std()-X</th>\n",
       "      <th>tBodyAcc-std()-Y</th>\n",
       "      <th>tBodyAcc-std()-Z</th>\n",
       "      <th>tBodyAcc-mad()-X</th>\n",
       "      <th>tBodyAcc-mad()-Y</th>\n",
       "      <th>tBodyAcc-mad()-Z</th>\n",
       "      <th>tBodyAcc-max()-X</th>\n",
       "      <th>...</th>\n",
       "      <th>fBodyBodyGyroJerkMag-kurtosis()</th>\n",
       "      <th>angle(tBodyAccMean,gravity)</th>\n",
       "      <th>angle(tBodyAccJerkMean),gravityMean)</th>\n",
       "      <th>angle(tBodyGyroMean,gravityMean)</th>\n",
       "      <th>angle(tBodyGyroJerkMean,gravityMean)</th>\n",
       "      <th>angle(X,gravityMean)</th>\n",
       "      <th>angle(Y,gravityMean)</th>\n",
       "      <th>angle(Z,gravityMean)</th>\n",
       "      <th>subject</th>\n",
       "      <th>Activity</th>\n",
       "    </tr>\n",
       "  </thead>\n",
       "  <tbody>\n",
       "    <tr>\n",
       "      <th>0</th>\n",
       "      <td>0.288585</td>\n",
       "      <td>-0.020294</td>\n",
       "      <td>-0.132905</td>\n",
       "      <td>-0.995279</td>\n",
       "      <td>-0.983111</td>\n",
       "      <td>-0.913526</td>\n",
       "      <td>-0.995112</td>\n",
       "      <td>-0.983185</td>\n",
       "      <td>-0.923527</td>\n",
       "      <td>-0.934724</td>\n",
       "      <td>...</td>\n",
       "      <td>-0.710304</td>\n",
       "      <td>-0.112754</td>\n",
       "      <td>0.030400</td>\n",
       "      <td>-0.464761</td>\n",
       "      <td>-0.018446</td>\n",
       "      <td>-0.841247</td>\n",
       "      <td>0.179941</td>\n",
       "      <td>-0.058627</td>\n",
       "      <td>1</td>\n",
       "      <td>STANDING</td>\n",
       "    </tr>\n",
       "    <tr>\n",
       "      <th>1</th>\n",
       "      <td>0.278419</td>\n",
       "      <td>-0.016411</td>\n",
       "      <td>-0.123520</td>\n",
       "      <td>-0.998245</td>\n",
       "      <td>-0.975300</td>\n",
       "      <td>-0.960322</td>\n",
       "      <td>-0.998807</td>\n",
       "      <td>-0.974914</td>\n",
       "      <td>-0.957686</td>\n",
       "      <td>-0.943068</td>\n",
       "      <td>...</td>\n",
       "      <td>-0.861499</td>\n",
       "      <td>0.053477</td>\n",
       "      <td>-0.007435</td>\n",
       "      <td>-0.732626</td>\n",
       "      <td>0.703511</td>\n",
       "      <td>-0.844788</td>\n",
       "      <td>0.180289</td>\n",
       "      <td>-0.054317</td>\n",
       "      <td>1</td>\n",
       "      <td>STANDING</td>\n",
       "    </tr>\n",
       "    <tr>\n",
       "      <th>2</th>\n",
       "      <td>0.279653</td>\n",
       "      <td>-0.019467</td>\n",
       "      <td>-0.113462</td>\n",
       "      <td>-0.995380</td>\n",
       "      <td>-0.967187</td>\n",
       "      <td>-0.978944</td>\n",
       "      <td>-0.996520</td>\n",
       "      <td>-0.963668</td>\n",
       "      <td>-0.977469</td>\n",
       "      <td>-0.938692</td>\n",
       "      <td>...</td>\n",
       "      <td>-0.760104</td>\n",
       "      <td>-0.118559</td>\n",
       "      <td>0.177899</td>\n",
       "      <td>0.100699</td>\n",
       "      <td>0.808529</td>\n",
       "      <td>-0.848933</td>\n",
       "      <td>0.180637</td>\n",
       "      <td>-0.049118</td>\n",
       "      <td>1</td>\n",
       "      <td>STANDING</td>\n",
       "    </tr>\n",
       "    <tr>\n",
       "      <th>3</th>\n",
       "      <td>0.279174</td>\n",
       "      <td>-0.026201</td>\n",
       "      <td>-0.123283</td>\n",
       "      <td>-0.996091</td>\n",
       "      <td>-0.983403</td>\n",
       "      <td>-0.990675</td>\n",
       "      <td>-0.997099</td>\n",
       "      <td>-0.982750</td>\n",
       "      <td>-0.989302</td>\n",
       "      <td>-0.938692</td>\n",
       "      <td>...</td>\n",
       "      <td>-0.482845</td>\n",
       "      <td>-0.036788</td>\n",
       "      <td>-0.012892</td>\n",
       "      <td>0.640011</td>\n",
       "      <td>-0.485366</td>\n",
       "      <td>-0.848649</td>\n",
       "      <td>0.181935</td>\n",
       "      <td>-0.047663</td>\n",
       "      <td>1</td>\n",
       "      <td>STANDING</td>\n",
       "    </tr>\n",
       "    <tr>\n",
       "      <th>4</th>\n",
       "      <td>0.276629</td>\n",
       "      <td>-0.016570</td>\n",
       "      <td>-0.115362</td>\n",
       "      <td>-0.998139</td>\n",
       "      <td>-0.980817</td>\n",
       "      <td>-0.990482</td>\n",
       "      <td>-0.998321</td>\n",
       "      <td>-0.979672</td>\n",
       "      <td>-0.990441</td>\n",
       "      <td>-0.942469</td>\n",
       "      <td>...</td>\n",
       "      <td>-0.699205</td>\n",
       "      <td>0.123320</td>\n",
       "      <td>0.122542</td>\n",
       "      <td>0.693578</td>\n",
       "      <td>-0.615971</td>\n",
       "      <td>-0.847865</td>\n",
       "      <td>0.185151</td>\n",
       "      <td>-0.043892</td>\n",
       "      <td>1</td>\n",
       "      <td>STANDING</td>\n",
       "    </tr>\n",
       "  </tbody>\n",
       "</table>\n",
       "<p>5 rows × 563 columns</p>\n",
       "</div>"
      ],
      "text/plain": [
       "   tBodyAcc-mean()-X  tBodyAcc-mean()-Y  tBodyAcc-mean()-Z  tBodyAcc-std()-X  \\\n",
       "0           0.288585          -0.020294          -0.132905         -0.995279   \n",
       "1           0.278419          -0.016411          -0.123520         -0.998245   \n",
       "2           0.279653          -0.019467          -0.113462         -0.995380   \n",
       "3           0.279174          -0.026201          -0.123283         -0.996091   \n",
       "4           0.276629          -0.016570          -0.115362         -0.998139   \n",
       "\n",
       "   tBodyAcc-std()-Y  tBodyAcc-std()-Z  tBodyAcc-mad()-X  tBodyAcc-mad()-Y  \\\n",
       "0         -0.983111         -0.913526         -0.995112         -0.983185   \n",
       "1         -0.975300         -0.960322         -0.998807         -0.974914   \n",
       "2         -0.967187         -0.978944         -0.996520         -0.963668   \n",
       "3         -0.983403         -0.990675         -0.997099         -0.982750   \n",
       "4         -0.980817         -0.990482         -0.998321         -0.979672   \n",
       "\n",
       "   tBodyAcc-mad()-Z  tBodyAcc-max()-X  ...  fBodyBodyGyroJerkMag-kurtosis()  \\\n",
       "0         -0.923527         -0.934724  ...                        -0.710304   \n",
       "1         -0.957686         -0.943068  ...                        -0.861499   \n",
       "2         -0.977469         -0.938692  ...                        -0.760104   \n",
       "3         -0.989302         -0.938692  ...                        -0.482845   \n",
       "4         -0.990441         -0.942469  ...                        -0.699205   \n",
       "\n",
       "   angle(tBodyAccMean,gravity)  angle(tBodyAccJerkMean),gravityMean)  \\\n",
       "0                    -0.112754                              0.030400   \n",
       "1                     0.053477                             -0.007435   \n",
       "2                    -0.118559                              0.177899   \n",
       "3                    -0.036788                             -0.012892   \n",
       "4                     0.123320                              0.122542   \n",
       "\n",
       "   angle(tBodyGyroMean,gravityMean)  angle(tBodyGyroJerkMean,gravityMean)  \\\n",
       "0                         -0.464761                             -0.018446   \n",
       "1                         -0.732626                              0.703511   \n",
       "2                          0.100699                              0.808529   \n",
       "3                          0.640011                             -0.485366   \n",
       "4                          0.693578                             -0.615971   \n",
       "\n",
       "   angle(X,gravityMean)  angle(Y,gravityMean)  angle(Z,gravityMean)  subject  \\\n",
       "0             -0.841247              0.179941             -0.058627        1   \n",
       "1             -0.844788              0.180289             -0.054317        1   \n",
       "2             -0.848933              0.180637             -0.049118        1   \n",
       "3             -0.848649              0.181935             -0.047663        1   \n",
       "4             -0.847865              0.185151             -0.043892        1   \n",
       "\n",
       "   Activity  \n",
       "0  STANDING  \n",
       "1  STANDING  \n",
       "2  STANDING  \n",
       "3  STANDING  \n",
       "4  STANDING  \n",
       "\n",
       "[5 rows x 563 columns]"
      ]
     },
     "execution_count": 3,
     "metadata": {},
     "output_type": "execute_result"
    }
   ],
   "source": [
    "train.head()"
   ]
  },
  {
   "cell_type": "code",
   "execution_count": 4,
   "id": "df6b8635",
   "metadata": {
    "execution": {
     "iopub.execute_input": "2024-04-20T20:57:19.177454Z",
     "iopub.status.busy": "2024-04-20T20:57:19.177021Z",
     "iopub.status.idle": "2024-04-20T20:57:19.185145Z",
     "shell.execute_reply": "2024-04-20T20:57:19.183855Z"
    },
    "papermill": {
     "duration": 0.024027,
     "end_time": "2024-04-20T20:57:19.187564",
     "exception": false,
     "start_time": "2024-04-20T20:57:19.163537",
     "status": "completed"
    },
    "tags": []
   },
   "outputs": [
    {
     "data": {
      "text/plain": [
       "7352"
      ]
     },
     "execution_count": 4,
     "metadata": {},
     "output_type": "execute_result"
    }
   ],
   "source": [
    "len(train)"
   ]
  },
  {
   "cell_type": "markdown",
   "id": "aa765236",
   "metadata": {
    "papermill": {
     "duration": 0.010587,
     "end_time": "2024-04-20T20:57:19.209316",
     "exception": false,
     "start_time": "2024-04-20T20:57:19.198729",
     "status": "completed"
    },
    "tags": []
   },
   "source": [
    "#### Testing dataset"
   ]
  },
  {
   "cell_type": "code",
   "execution_count": 5,
   "id": "b4a3d178",
   "metadata": {
    "execution": {
     "iopub.execute_input": "2024-04-20T20:57:19.233042Z",
     "iopub.status.busy": "2024-04-20T20:57:19.232601Z",
     "iopub.status.idle": "2024-04-20T20:57:19.887820Z",
     "shell.execute_reply": "2024-04-20T20:57:19.886781Z"
    },
    "papermill": {
     "duration": 0.67062,
     "end_time": "2024-04-20T20:57:19.890705",
     "exception": false,
     "start_time": "2024-04-20T20:57:19.220085",
     "status": "completed"
    },
    "tags": []
   },
   "outputs": [],
   "source": [
    "test=pd.read_csv('/kaggle/input/human-activity-recognition-with-smartphones/test.csv')"
   ]
  },
  {
   "cell_type": "code",
   "execution_count": 6,
   "id": "43c84696",
   "metadata": {
    "execution": {
     "iopub.execute_input": "2024-04-20T20:57:19.916065Z",
     "iopub.status.busy": "2024-04-20T20:57:19.915396Z",
     "iopub.status.idle": "2024-04-20T20:57:19.922726Z",
     "shell.execute_reply": "2024-04-20T20:57:19.921324Z"
    },
    "papermill": {
     "duration": 0.024001,
     "end_time": "2024-04-20T20:57:19.926019",
     "exception": false,
     "start_time": "2024-04-20T20:57:19.902018",
     "status": "completed"
    },
    "tags": []
   },
   "outputs": [
    {
     "data": {
      "text/plain": [
       "2947"
      ]
     },
     "execution_count": 6,
     "metadata": {},
     "output_type": "execute_result"
    }
   ],
   "source": [
    "len(test)"
   ]
  },
  {
   "cell_type": "markdown",
   "id": "533f98f9",
   "metadata": {
    "papermill": {
     "duration": 0.010767,
     "end_time": "2024-04-20T20:57:19.947850",
     "exception": false,
     "start_time": "2024-04-20T20:57:19.937083",
     "status": "completed"
    },
    "tags": []
   },
   "source": [
    "### Classification dataset used for SVM parameter optimization"
   ]
  },
  {
   "cell_type": "code",
   "execution_count": 7,
   "id": "ec87908c",
   "metadata": {
    "execution": {
     "iopub.execute_input": "2024-04-20T20:57:19.973044Z",
     "iopub.status.busy": "2024-04-20T20:57:19.972600Z",
     "iopub.status.idle": "2024-04-20T20:57:21.472787Z",
     "shell.execute_reply": "2024-04-20T20:57:21.471485Z"
    },
    "papermill": {
     "duration": 1.516634,
     "end_time": "2024-04-20T20:57:21.475830",
     "exception": false,
     "start_time": "2024-04-20T20:57:19.959196",
     "status": "completed"
    },
    "tags": []
   },
   "outputs": [],
   "source": [
    "from sklearn import svm\n",
    "from sklearn.model_selection import train_test_split\n",
    "from sklearn.metrics import accuracy_score\n",
    "import random"
   ]
  },
  {
   "cell_type": "markdown",
   "id": "e025c187",
   "metadata": {
    "papermill": {
     "duration": 0.01352,
     "end_time": "2024-04-20T20:57:21.500917",
     "exception": false,
     "start_time": "2024-04-20T20:57:21.487397",
     "status": "completed"
    },
    "tags": []
   },
   "source": [
    "### Parameters used:\n",
    "* Kernel\n",
    "* Nu\n",
    "* C"
   ]
  },
  {
   "cell_type": "markdown",
   "id": "36fca9eb",
   "metadata": {
    "papermill": {
     "duration": 0.01486,
     "end_time": "2024-04-20T20:57:21.529370",
     "exception": false,
     "start_time": "2024-04-20T20:57:21.514510",
     "status": "completed"
    },
    "tags": []
   },
   "source": [
    "#### For kernel_list: Sigmoid not used as the accuracy is coming out to be negative i.e. not working with this dataset and parameters"
   ]
  },
  {
   "cell_type": "code",
   "execution_count": 8,
   "id": "3d467525",
   "metadata": {
    "execution": {
     "iopub.execute_input": "2024-04-20T20:57:21.567162Z",
     "iopub.status.busy": "2024-04-20T20:57:21.566643Z",
     "iopub.status.idle": "2024-04-20T20:57:21.572987Z",
     "shell.execute_reply": "2024-04-20T20:57:21.571411Z"
    },
    "papermill": {
     "duration": 0.029853,
     "end_time": "2024-04-20T20:57:21.575907",
     "exception": false,
     "start_time": "2024-04-20T20:57:21.546054",
     "status": "completed"
    },
    "tags": []
   },
   "outputs": [],
   "source": [
    "kernel_list=['linear', 'poly', 'rbf']"
   ]
  },
  {
   "cell_type": "code",
   "execution_count": 9,
   "id": "2dd94c48",
   "metadata": {
    "execution": {
     "iopub.execute_input": "2024-04-20T20:57:21.602240Z",
     "iopub.status.busy": "2024-04-20T20:57:21.601773Z",
     "iopub.status.idle": "2024-04-20T20:57:21.608419Z",
     "shell.execute_reply": "2024-04-20T20:57:21.606732Z"
    },
    "papermill": {
     "duration": 0.022831,
     "end_time": "2024-04-20T20:57:21.611226",
     "exception": false,
     "start_time": "2024-04-20T20:57:21.588395",
     "status": "completed"
    },
    "tags": []
   },
   "outputs": [],
   "source": [
    "train_data=train"
   ]
  },
  {
   "cell_type": "markdown",
   "id": "cc157f86",
   "metadata": {
    "papermill": {
     "duration": 0.011853,
     "end_time": "2024-04-20T20:57:21.634351",
     "exception": false,
     "start_time": "2024-04-20T20:57:21.622498",
     "status": "completed"
    },
    "tags": []
   },
   "source": [
    "### Pre-processing for SVM\n",
    "#### Encoding string labels into numerical classes"
   ]
  },
  {
   "cell_type": "code",
   "execution_count": 10,
   "id": "9c0c4bbb",
   "metadata": {
    "execution": {
     "iopub.execute_input": "2024-04-20T20:57:21.661971Z",
     "iopub.status.busy": "2024-04-20T20:57:21.660669Z",
     "iopub.status.idle": "2024-04-20T20:57:21.674904Z",
     "shell.execute_reply": "2024-04-20T20:57:21.673252Z"
    },
    "papermill": {
     "duration": 0.033063,
     "end_time": "2024-04-20T20:57:21.678535",
     "exception": false,
     "start_time": "2024-04-20T20:57:21.645472",
     "status": "completed"
    },
    "tags": []
   },
   "outputs": [],
   "source": [
    "from sklearn.preprocessing import LabelEncoder\n",
    "label_encoder = LabelEncoder()\n",
    "train_data['Activity'] = label_encoder.fit_transform(train_data['Activity'])"
   ]
  },
  {
   "cell_type": "code",
   "execution_count": 11,
   "id": "540bfc65",
   "metadata": {
    "execution": {
     "iopub.execute_input": "2024-04-20T20:57:21.713246Z",
     "iopub.status.busy": "2024-04-20T20:57:21.711687Z",
     "iopub.status.idle": "2024-04-20T20:57:21.724636Z",
     "shell.execute_reply": "2024-04-20T20:57:21.722883Z"
    },
    "papermill": {
     "duration": 0.034302,
     "end_time": "2024-04-20T20:57:21.728855",
     "exception": false,
     "start_time": "2024-04-20T20:57:21.694553",
     "status": "completed"
    },
    "tags": []
   },
   "outputs": [
    {
     "data": {
      "text/plain": [
       "0       2\n",
       "1       2\n",
       "2       2\n",
       "3       2\n",
       "4       2\n",
       "       ..\n",
       "7347    5\n",
       "7348    5\n",
       "7349    5\n",
       "7350    5\n",
       "7351    5\n",
       "Name: Activity, Length: 7352, dtype: int64"
      ]
     },
     "execution_count": 11,
     "metadata": {},
     "output_type": "execute_result"
    }
   ],
   "source": [
    "train_data['Activity']"
   ]
  },
  {
   "cell_type": "markdown",
   "id": "63f93cd6",
   "metadata": {
    "papermill": {
     "duration": 0.016824,
     "end_time": "2024-04-20T20:57:21.761447",
     "exception": false,
     "start_time": "2024-04-20T20:57:21.744623",
     "status": "completed"
    },
    "tags": []
   },
   "source": [
    "### Fitness function"
   ]
  },
  {
   "cell_type": "code",
   "execution_count": 12,
   "id": "b47cbcec",
   "metadata": {
    "execution": {
     "iopub.execute_input": "2024-04-20T20:57:21.796569Z",
     "iopub.status.busy": "2024-04-20T20:57:21.794487Z",
     "iopub.status.idle": "2024-04-20T20:57:21.803853Z",
     "shell.execute_reply": "2024-04-20T20:57:21.802314Z"
    },
    "papermill": {
     "duration": 0.030419,
     "end_time": "2024-04-20T20:57:21.807426",
     "exception": false,
     "start_time": "2024-04-20T20:57:21.777007",
     "status": "completed"
    },
    "tags": []
   },
   "outputs": [],
   "source": [
    "def fitnessFunction(sample,k,n,c):\n",
    "    x=sample.drop('Activity',axis=1)\n",
    "    y=sample['Activity']\n",
    "    X_train, X_test, y_train, y_test = train_test_split(x, y, test_size=0.3, random_state=42)\n",
    "    model=svm.NuSVR(kernel=k,nu=n,C=c)\n",
    "    model.fit(X_train,y_train)\n",
    "    accuracy=model.score(X_test,y_test)\n",
    "    \n",
    "    return accuracy"
   ]
  },
  {
   "cell_type": "markdown",
   "id": "3b296f60",
   "metadata": {
    "papermill": {
     "duration": 0.01087,
     "end_time": "2024-04-20T20:57:21.831115",
     "exception": false,
     "start_time": "2024-04-20T20:57:21.820245",
     "status": "completed"
    },
    "tags": []
   },
   "source": [
    "### Execution function\n",
    "#### Running loop till no of specified iterations"
   ]
  },
  {
   "cell_type": "markdown",
   "id": "eab3565e",
   "metadata": {
    "papermill": {
     "duration": 0.011037,
     "end_time": "2024-04-20T20:57:21.853380",
     "exception": false,
     "start_time": "2024-04-20T20:57:21.842343",
     "status": "completed"
    },
    "tags": []
   },
   "source": [
    "#### Here, the range of SVM parameters are specified:\n",
    "* k from the choices in list\n",
    "* Nu (0,1]\n",
    "* C can range from 0.01,0.1,1,10,100.... but here I have taken (0,1] to reduce processing time"
   ]
  },
  {
   "cell_type": "code",
   "execution_count": 13,
   "id": "22043df4",
   "metadata": {
    "execution": {
     "iopub.execute_input": "2024-04-20T20:57:21.878547Z",
     "iopub.status.busy": "2024-04-20T20:57:21.877782Z",
     "iopub.status.idle": "2024-04-20T20:57:21.885923Z",
     "shell.execute_reply": "2024-04-20T20:57:21.885094Z"
    },
    "papermill": {
     "duration": 0.023869,
     "end_time": "2024-04-20T20:57:21.888568",
     "exception": false,
     "start_time": "2024-04-20T20:57:21.864699",
     "status": "completed"
    },
    "tags": []
   },
   "outputs": [],
   "source": [
    "def execute(sample):    \n",
    "    best_a=0\n",
    "    best_k=None\n",
    "    best_c=0\n",
    "    best_n=0\n",
    "    acc_list=[]\n",
    "    for i in range(iterations):\n",
    "        k=random.choice(kernel_list)\n",
    "        n=round(random.random(),2)\n",
    "        while n == 0:\n",
    "            n = round(random.random(),2)\n",
    "        c=random.uniform(0.01, 1)\n",
    "        #e=round(random.uniform(0, 1),2)\n",
    "        a=fitnessFunction(sample,k,n,c)\n",
    "        acc_list.append(a)\n",
    "        if a>best_a:\n",
    "            best_k=k\n",
    "            best_n=n\n",
    "            best_c=c\n",
    "            best_a=a\n",
    "    return [best_a,best_k,best_n,best_c],acc_list"
   ]
  },
  {
   "cell_type": "markdown",
   "id": "55ae16f7",
   "metadata": {
    "papermill": {
     "duration": 0.010912,
     "end_time": "2024-04-20T20:57:21.910847",
     "exception": false,
     "start_time": "2024-04-20T20:57:21.899935",
     "status": "completed"
    },
    "tags": []
   },
   "source": [
    "### Sampling: 10 samples are created(size=2000) and each sample is used for running 100 iterations of random parameter for optimization"
   ]
  },
  {
   "cell_type": "code",
   "execution_count": 14,
   "id": "0b535055",
   "metadata": {
    "execution": {
     "iopub.execute_input": "2024-04-20T20:57:21.937243Z",
     "iopub.status.busy": "2024-04-20T20:57:21.936494Z",
     "iopub.status.idle": "2024-04-20T20:57:21.943445Z",
     "shell.execute_reply": "2024-04-20T20:57:21.941747Z"
    },
    "papermill": {
     "duration": 0.026185,
     "end_time": "2024-04-20T20:57:21.948198",
     "exception": false,
     "start_time": "2024-04-20T20:57:21.922013",
     "status": "completed"
    },
    "tags": []
   },
   "outputs": [],
   "source": [
    "num_samples=2000"
   ]
  },
  {
   "cell_type": "markdown",
   "id": "8e725317",
   "metadata": {
    "papermill": {
     "duration": 0.013861,
     "end_time": "2024-04-20T20:57:21.978376",
     "exception": false,
     "start_time": "2024-04-20T20:57:21.964515",
     "status": "completed"
    },
    "tags": []
   },
   "source": [
    "### Final dataframe"
   ]
  },
  {
   "cell_type": "code",
   "execution_count": 15,
   "id": "94429a2b",
   "metadata": {
    "execution": {
     "iopub.execute_input": "2024-04-20T20:57:22.005761Z",
     "iopub.status.busy": "2024-04-20T20:57:22.004698Z",
     "iopub.status.idle": "2024-04-20T20:57:22.010418Z",
     "shell.execute_reply": "2024-04-20T20:57:22.009310Z"
    },
    "papermill": {
     "duration": 0.022716,
     "end_time": "2024-04-20T20:57:22.013429",
     "exception": false,
     "start_time": "2024-04-20T20:57:21.990713",
     "status": "completed"
    },
    "tags": []
   },
   "outputs": [],
   "source": [
    "ans=[]"
   ]
  },
  {
   "cell_type": "code",
   "execution_count": 16,
   "id": "cfa6d107",
   "metadata": {
    "execution": {
     "iopub.execute_input": "2024-04-20T20:57:22.041467Z",
     "iopub.status.busy": "2024-04-20T20:57:22.040658Z",
     "iopub.status.idle": "2024-04-20T21:21:05.671532Z",
     "shell.execute_reply": "2024-04-20T21:21:05.669844Z"
    },
    "papermill": {
     "duration": 1423.648311,
     "end_time": "2024-04-20T21:21:05.675376",
     "exception": false,
     "start_time": "2024-04-20T20:57:22.027065",
     "status": "completed"
    },
    "tags": []
   },
   "outputs": [
    {
     "name": "stdout",
     "output_type": "stream",
     "text": [
      "Sample:  1  started\n",
      "Sample:  2  started\n",
      "Sample:  3  started\n",
      "Sample:  4  started\n",
      "Sample:  5  started\n",
      "Sample:  6  started\n",
      "Sample:  7  started\n",
      "Sample:  8  started\n",
      "Sample:  9  started\n",
      "Sample:  10  started\n"
     ]
    }
   ],
   "source": [
    "iterations=100\n",
    "max_sample=train_data\n",
    "max_s=0\n",
    "max_parameters=[]\n",
    "max_acc_list=[]\n",
    "index=0\n",
    "for i in range(10):\n",
    "    print('Sample: ',i+1,' started')\n",
    "    sample=train_data.sample(n=num_samples, random_state=42)\n",
    "    parameters,acc_list=execute(sample)\n",
    "    ans.append(parameters)\n",
    "    \n",
    "    if(parameters[0]>max_s):\n",
    "        index=i+1\n",
    "        max_s=parameters[0]\n",
    "        max_sample=sample\n",
    "        max_parameters=parameters\n",
    "        max_acc_list=acc_list"
   ]
  },
  {
   "cell_type": "code",
   "execution_count": 17,
   "id": "bad8868f",
   "metadata": {
    "execution": {
     "iopub.execute_input": "2024-04-20T21:21:05.703044Z",
     "iopub.status.busy": "2024-04-20T21:21:05.702602Z",
     "iopub.status.idle": "2024-04-20T21:21:05.709067Z",
     "shell.execute_reply": "2024-04-20T21:21:05.707585Z"
    },
    "papermill": {
     "duration": 0.023785,
     "end_time": "2024-04-20T21:21:05.712095",
     "exception": false,
     "start_time": "2024-04-20T21:21:05.688310",
     "status": "completed"
    },
    "tags": []
   },
   "outputs": [
    {
     "name": "stdout",
     "output_type": "stream",
     "text": [
      "The best sample is Sample 8\n",
      "The best parameters:  [0.9596418701284893, 'linear', 0.52, 0.8372134188284429]\n"
     ]
    }
   ],
   "source": [
    "print('The best sample is Sample',index)\n",
    "print('The best parameters: ',max_parameters)"
   ]
  },
  {
   "cell_type": "markdown",
   "id": "724b4389",
   "metadata": {
    "papermill": {
     "duration": 0.012773,
     "end_time": "2024-04-20T21:21:05.737507",
     "exception": false,
     "start_time": "2024-04-20T21:21:05.724734",
     "status": "completed"
    },
    "tags": []
   },
   "source": [
    "### Final Dataframe of the 10 samples"
   ]
  },
  {
   "cell_type": "code",
   "execution_count": 18,
   "id": "b8610d8f",
   "metadata": {
    "execution": {
     "iopub.execute_input": "2024-04-20T21:21:05.764000Z",
     "iopub.status.busy": "2024-04-20T21:21:05.763583Z",
     "iopub.status.idle": "2024-04-20T21:21:05.782239Z",
     "shell.execute_reply": "2024-04-20T21:21:05.780784Z"
    },
    "papermill": {
     "duration": 0.035266,
     "end_time": "2024-04-20T21:21:05.784964",
     "exception": false,
     "start_time": "2024-04-20T21:21:05.749698",
     "status": "completed"
    },
    "tags": []
   },
   "outputs": [
    {
     "data": {
      "text/html": [
       "<div>\n",
       "<style scoped>\n",
       "    .dataframe tbody tr th:only-of-type {\n",
       "        vertical-align: middle;\n",
       "    }\n",
       "\n",
       "    .dataframe tbody tr th {\n",
       "        vertical-align: top;\n",
       "    }\n",
       "\n",
       "    .dataframe thead th {\n",
       "        text-align: right;\n",
       "    }\n",
       "</style>\n",
       "<table border=\"1\" class=\"dataframe\">\n",
       "  <thead>\n",
       "    <tr style=\"text-align: right;\">\n",
       "      <th></th>\n",
       "      <th>Accuracy</th>\n",
       "      <th>Kernel</th>\n",
       "      <th>Nu</th>\n",
       "      <th>C</th>\n",
       "    </tr>\n",
       "  </thead>\n",
       "  <tbody>\n",
       "    <tr>\n",
       "      <th>Sample1</th>\n",
       "      <td>0.958875</td>\n",
       "      <td>linear</td>\n",
       "      <td>0.49</td>\n",
       "      <td>0.224711</td>\n",
       "    </tr>\n",
       "    <tr>\n",
       "      <th>Sample2</th>\n",
       "      <td>0.959349</td>\n",
       "      <td>linear</td>\n",
       "      <td>0.54</td>\n",
       "      <td>0.382223</td>\n",
       "    </tr>\n",
       "    <tr>\n",
       "      <th>Sample3</th>\n",
       "      <td>0.959316</td>\n",
       "      <td>linear</td>\n",
       "      <td>0.51</td>\n",
       "      <td>0.676600</td>\n",
       "    </tr>\n",
       "    <tr>\n",
       "      <th>Sample4</th>\n",
       "      <td>0.959439</td>\n",
       "      <td>linear</td>\n",
       "      <td>0.33</td>\n",
       "      <td>0.778909</td>\n",
       "    </tr>\n",
       "    <tr>\n",
       "      <th>Sample5</th>\n",
       "      <td>0.959377</td>\n",
       "      <td>linear</td>\n",
       "      <td>0.51</td>\n",
       "      <td>0.268380</td>\n",
       "    </tr>\n",
       "    <tr>\n",
       "      <th>Sample6</th>\n",
       "      <td>0.959204</td>\n",
       "      <td>linear</td>\n",
       "      <td>0.55</td>\n",
       "      <td>0.235650</td>\n",
       "    </tr>\n",
       "    <tr>\n",
       "      <th>Sample7</th>\n",
       "      <td>0.959234</td>\n",
       "      <td>linear</td>\n",
       "      <td>0.49</td>\n",
       "      <td>0.981342</td>\n",
       "    </tr>\n",
       "    <tr>\n",
       "      <th>Sample8</th>\n",
       "      <td>0.959642</td>\n",
       "      <td>linear</td>\n",
       "      <td>0.52</td>\n",
       "      <td>0.837213</td>\n",
       "    </tr>\n",
       "    <tr>\n",
       "      <th>Sample9</th>\n",
       "      <td>0.959391</td>\n",
       "      <td>linear</td>\n",
       "      <td>0.52</td>\n",
       "      <td>0.507204</td>\n",
       "    </tr>\n",
       "    <tr>\n",
       "      <th>Sample10</th>\n",
       "      <td>0.958955</td>\n",
       "      <td>linear</td>\n",
       "      <td>0.48</td>\n",
       "      <td>0.939198</td>\n",
       "    </tr>\n",
       "  </tbody>\n",
       "</table>\n",
       "</div>"
      ],
      "text/plain": [
       "          Accuracy  Kernel    Nu         C\n",
       "Sample1   0.958875  linear  0.49  0.224711\n",
       "Sample2   0.959349  linear  0.54  0.382223\n",
       "Sample3   0.959316  linear  0.51  0.676600\n",
       "Sample4   0.959439  linear  0.33  0.778909\n",
       "Sample5   0.959377  linear  0.51  0.268380\n",
       "Sample6   0.959204  linear  0.55  0.235650\n",
       "Sample7   0.959234  linear  0.49  0.981342\n",
       "Sample8   0.959642  linear  0.52  0.837213\n",
       "Sample9   0.959391  linear  0.52  0.507204\n",
       "Sample10  0.958955  linear  0.48  0.939198"
      ]
     },
     "execution_count": 18,
     "metadata": {},
     "output_type": "execute_result"
    }
   ],
   "source": [
    "df = pd.DataFrame(ans)\n",
    "df.columns=['Accuracy','Kernel','Nu','C']\n",
    "df.index=['Sample1','Sample2','Sample3','Sample4','Sample5','Sample6','Sample7','Sample8','Sample9','Sample10']\n",
    "df"
   ]
  },
  {
   "cell_type": "markdown",
   "id": "a062c963",
   "metadata": {
    "papermill": {
     "duration": 0.01221,
     "end_time": "2024-04-20T21:21:05.809892",
     "exception": false,
     "start_time": "2024-04-20T21:21:05.797682",
     "status": "completed"
    },
    "tags": []
   },
   "source": [
    "### Graph: Change in accuracy with iterations with each iteration having different random parameters for SVM\n",
    "#### Note: Out of the 10 samples only the best sample(Max accuracy) has been used for plotting"
   ]
  },
  {
   "cell_type": "code",
   "execution_count": 19,
   "id": "b5e27fd4",
   "metadata": {
    "execution": {
     "iopub.execute_input": "2024-04-20T21:21:05.837319Z",
     "iopub.status.busy": "2024-04-20T21:21:05.836845Z",
     "iopub.status.idle": "2024-04-20T21:21:06.217779Z",
     "shell.execute_reply": "2024-04-20T21:21:06.216306Z"
    },
    "papermill": {
     "duration": 0.398356,
     "end_time": "2024-04-20T21:21:06.220816",
     "exception": false,
     "start_time": "2024-04-20T21:21:05.822460",
     "status": "completed"
    },
    "tags": []
   },
   "outputs": [
    {
     "data": {
      "text/plain": [
       "Text(0, 0.5, 'Accuracy')"
      ]
     },
     "execution_count": 19,
     "metadata": {},
     "output_type": "execute_result"
    },
    {
     "data": {
      "image/png": "[encoded data removed]",
      "text/plain": [
       "<Figure size 1000x600 with 1 Axes>"
      ]
     },
     "metadata": {},
     "output_type": "display_data"
    }
   ],
   "source": [
    "import matplotlib.pyplot as plt\n",
    "import numpy as np\n",
    "\n",
    "iterations = np.arange(1, 101)\n",
    "max_acc_list.sort()\n",
    "\n",
    "# Create the plot\n",
    "plt.figure(figsize=(10, 6))\n",
    "plt.plot(iterations, max_acc_list)\n",
    "\n",
    "# Add title and labels\n",
    "title='Fitness (bestAccuracy): Sample'+str(index)\n",
    "plt.title(title)\n",
    "plt.xlabel('Iteration')\n",
    "plt.ylabel('Accuracy')"
   ]
  }
 ],
 "metadata": {
  "kaggle": {
   "accelerator": "none",
   "dataSources": [
    {
     "datasetId": 226,
     "sourceId": 793070,
     "sourceType": "datasetVersion"
    }
   ],
   "dockerImageVersionId": 30698,
   "isGpuEnabled": false,
   "isInternetEnabled": true,
   "language": "python",
   "sourceType": "notebook"
  },
  "kernelspec": {
   "display_name": "Python 3",
   "language": "python",
   "name": "python3"
  },
  "language_info": {
   "codemirror_mode": {
    "name": "ipython",
    "version": 3
   },
   "file_extension": ".py",
   "mimetype": "text/x-python",
   "name": "python",
   "nbconvert_exporter": "python",
   "pygments_lexer": "ipython3",
   "version": "3.10.13"
  },
  "papermill": {
   "default_parameters": {},
   "duration": 1433.911674,
   "end_time": "2024-04-20T21:21:07.063031",
   "environment_variables": {},
   "exception": null,
   "input_path": "__notebook__.ipynb",
   "output_path": "__notebook__.ipynb",
   "parameters": {},
   "start_time": "2024-04-20T20:57:13.151357",
   "version": "2.5.0"
  }
 },
 "nbformat": 4,
 "nbformat_minor": 5
}
